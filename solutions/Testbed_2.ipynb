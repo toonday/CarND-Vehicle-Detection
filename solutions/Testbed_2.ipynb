{
 "cells": [
  {
   "cell_type": "code",
   "execution_count": 1,
   "metadata": {},
   "outputs": [
    {
     "name": "stderr",
     "output_type": "stream",
     "text": [
      "/root/miniconda3/envs/carnd-term1/lib/python3.5/site-packages/sklearn/cross_validation.py:41: DeprecationWarning: This module was deprecated in version 0.18 in favor of the model_selection module into which all the refactored classes and functions are moved. Also note that the interface of the new CV iterators are different from that of this module. This module will be removed in 0.20.\n",
      "  \"This module will be removed in 0.20.\", DeprecationWarning)\n"
     ]
    },
    {
     "name": "stdout",
     "output_type": "stream",
     "text": [
      "image.shape:  (720, 1280, 3)\n"
     ]
    },
    {
     "ename": "TypeError",
     "evalue": "only length-1 arrays can be converted to Python scalars",
     "output_type": "error",
     "traceback": [
      "\u001b[0;31m---------------------------------------------------------------------------\u001b[0m",
      "\u001b[0;31mTypeError\u001b[0m                                 Traceback (most recent call last)",
      "\u001b[0;32m<ipython-input-1-ac9ed0f9a60b>\u001b[0m in \u001b[0;36m<module>\u001b[0;34m()\u001b[0m\n\u001b[1;32m     27\u001b[0m \u001b[0;34m\u001b[0m\u001b[0m\n\u001b[1;32m     28\u001b[0m     windows = slide_window(image, x_start_stop=Settings.x_start_stop, y_start_stop=Settings.y_start_stop,\n\u001b[0;32m---> 29\u001b[0;31m                         xy_window=Settings.xy_window, xy_overlap=Settings.xy_overlap)\n\u001b[0m\u001b[1;32m     30\u001b[0m \u001b[0;34m\u001b[0m\u001b[0m\n\u001b[1;32m     31\u001b[0m     hot_windows = search_windows(image, windows, svc, scaler=X_scaler, transformer=None, color_space=Settings.color_space, \n",
      "\u001b[0;32m/src/CarND-Vehicle-Detection/solutions/vehicle_detection.py\u001b[0m in \u001b[0;36mslide_window\u001b[0;34m(img_shape, x_start_stop, y_start_stop, xy_window, xy_overlap)\u001b[0m\n\u001b[1;32m    168\u001b[0m     \u001b[0mnx_buffer\u001b[0m \u001b[0;34m=\u001b[0m \u001b[0mnp\u001b[0m\u001b[0;34m.\u001b[0m\u001b[0mint\u001b[0m\u001b[0;34m(\u001b[0m\u001b[0mxy_window\u001b[0m\u001b[0;34m[\u001b[0m\u001b[0;36m0\u001b[0m\u001b[0;34m]\u001b[0m\u001b[0;34m*\u001b[0m\u001b[0;34m(\u001b[0m\u001b[0mxy_overlap\u001b[0m\u001b[0;34m[\u001b[0m\u001b[0;36m0\u001b[0m\u001b[0;34m]\u001b[0m\u001b[0;34m)\u001b[0m\u001b[0;34m)\u001b[0m\u001b[0;34m\u001b[0m\u001b[0m\n\u001b[1;32m    169\u001b[0m     \u001b[0mny_buffer\u001b[0m \u001b[0;34m=\u001b[0m \u001b[0mnp\u001b[0m\u001b[0;34m.\u001b[0m\u001b[0mint\u001b[0m\u001b[0;34m(\u001b[0m\u001b[0mxy_window\u001b[0m\u001b[0;34m[\u001b[0m\u001b[0;36m1\u001b[0m\u001b[0;34m]\u001b[0m\u001b[0;34m*\u001b[0m\u001b[0;34m(\u001b[0m\u001b[0mxy_overlap\u001b[0m\u001b[0;34m[\u001b[0m\u001b[0;36m1\u001b[0m\u001b[0;34m]\u001b[0m\u001b[0;34m)\u001b[0m\u001b[0;34m)\u001b[0m\u001b[0;34m\u001b[0m\u001b[0m\n\u001b[0;32m--> 170\u001b[0;31m     \u001b[0mnx_windows\u001b[0m \u001b[0;34m=\u001b[0m \u001b[0mnp\u001b[0m\u001b[0;34m.\u001b[0m\u001b[0mint\u001b[0m\u001b[0;34m(\u001b[0m\u001b[0;34m(\u001b[0m\u001b[0mxspan\u001b[0m\u001b[0;34m-\u001b[0m\u001b[0mnx_buffer\u001b[0m\u001b[0;34m)\u001b[0m\u001b[0;34m/\u001b[0m\u001b[0mnx_pix_per_step\u001b[0m\u001b[0;34m)\u001b[0m\u001b[0;34m\u001b[0m\u001b[0m\n\u001b[0m\u001b[1;32m    171\u001b[0m     \u001b[0mny_windows\u001b[0m \u001b[0;34m=\u001b[0m \u001b[0mnp\u001b[0m\u001b[0;34m.\u001b[0m\u001b[0mint\u001b[0m\u001b[0;34m(\u001b[0m\u001b[0;34m(\u001b[0m\u001b[0myspan\u001b[0m\u001b[0;34m-\u001b[0m\u001b[0mny_buffer\u001b[0m\u001b[0;34m)\u001b[0m\u001b[0;34m/\u001b[0m\u001b[0mny_pix_per_step\u001b[0m\u001b[0;34m)\u001b[0m\u001b[0;34m\u001b[0m\u001b[0m\n\u001b[1;32m    172\u001b[0m \u001b[0;34m\u001b[0m\u001b[0m\n",
      "\u001b[0;31mTypeError\u001b[0m: only length-1 arrays can be converted to Python scalars"
     ]
    }
   ],
   "source": [
    "%run 'vehicle_detection.py'\n",
    "\n",
    "svc_file = \"./classifier.p\"\n",
    "svc = pickle.load(open(svc_file, \"rb\" ))\n",
    "\n",
    "scaler_file = \"./scaler.p\"\n",
    "X_scaler = pickle.load(open(scaler_file, \"rb\" ))\n",
    "\n",
    "'''\n",
    "tranformer_file = \"./tranformer.p\"\n",
    "X_transformer = pickle.load(open(tranformer_file, \"rb\" ))\n",
    "'''\n",
    "\n",
    "'''\n",
    "spatial_feat = True # Spatial features on or off\n",
    "hist_feat = True # Histogram features on or off\n",
    "hog_feat = True # HOG features on or off\n",
    "'''\n",
    "y_start_stop = [402, None]\n",
    "\n",
    "\n",
    "test_images = glob.glob('../test_images/*.jpg')\n",
    "for image_file in test_images:\n",
    "    image = mpimg.imread(image_file).astype(np.float32)\n",
    "    print('image.shape: ', image.shape)\n",
    "    draw_image = np.copy(image)\n",
    "\n",
    "    windows = slide_window(image, x_start_stop=Settings.x_start_stop, y_start_stop=Settings.y_start_stop,\n",
    "                        xy_window=Settings.xy_window, xy_overlap=Settings.xy_overlap)\n",
    "\n",
    "    hot_windows = search_windows(image, windows, svc, scaler=X_scaler, transformer=None, color_space=Settings.color_space, \n",
    "                            spatial_size=Settings.spatial_size, hist_bins=Settings.hist_bin, \n",
    "                            orient=Settings.orient, pix_per_cell=Settings.pix_per_cell, \n",
    "                            cell_per_block=Settings.cell_per_block, \n",
    "                            hog_channel=Settings.hog_channel, hog_resize=Settings.hog_resize)                       \n",
    "\n",
    "    window_img = draw_boxes(draw_image, hot_windows, color=(0, 0, 255), thick=6)\n",
    "    \n",
    "    heat = np.zeros_like(image[:,:,0]).astype(np.float32)\n",
    "    \n",
    "    # Add heat to each box in box list\n",
    "    heat = add_heat(heat, hot_windows)\n",
    "\n",
    "    # Apply threshold to help remove false positives\n",
    "    heat = apply_threshold(heat, 1)\n",
    "\n",
    "    # Visualize the heatmap when displaying    \n",
    "    heatmap = np.clip(heat, 0, 255)\n",
    "\n",
    "    # Find final boxes from heatmap using label function\n",
    "    labels = label(heatmap)\n",
    "    draw_img = draw_labeled_bboxes(np.copy(image), labels)\n",
    "\n",
    "    window_img = window_img.astype(np.uint8)\n",
    "    draw_img = draw_img.astype(np.uint8)\n",
    "    fig = plt.figure(figsize=(12,9))\n",
    "    plt.subplot(131)\n",
    "    plt.imshow(window_img)\n",
    "    plt.title('Hot Windows')\n",
    "    plt.subplot(132)\n",
    "    plt.imshow(draw_img)\n",
    "    plt.title('Car Positions')\n",
    "    plt.subplot(133)\n",
    "    plt.imshow(heatmap, cmap='hot')\n",
    "    plt.title('Heat Map')\n",
    "    fig.tight_layout()\n",
    "\n",
    "    #plt.imshow(window_img)\n",
    "    plt.show()\n",
    "\n"
   ]
  },
  {
   "cell_type": "code",
   "execution_count": null,
   "metadata": {
    "collapsed": true
   },
   "outputs": [],
   "source": []
  },
  {
   "cell_type": "code",
   "execution_count": null,
   "metadata": {
    "collapsed": true
   },
   "outputs": [],
   "source": []
  },
  {
   "cell_type": "code",
   "execution_count": null,
   "metadata": {
    "collapsed": true
   },
   "outputs": [],
   "source": []
  },
  {
   "cell_type": "code",
   "execution_count": null,
   "metadata": {
    "collapsed": true
   },
   "outputs": [],
   "source": []
  }
 ],
 "metadata": {
  "kernelspec": {
   "display_name": "Python 3",
   "language": "python",
   "name": "python3"
  },
  "language_info": {
   "codemirror_mode": {
    "name": "ipython",
    "version": 3
   },
   "file_extension": ".py",
   "mimetype": "text/x-python",
   "name": "python",
   "nbconvert_exporter": "python",
   "pygments_lexer": "ipython3",
   "version": "3.5.2"
  },
  "widgets": {
   "state": {},
   "version": "1.1.2"
  }
 },
 "nbformat": 4,
 "nbformat_minor": 2
}
