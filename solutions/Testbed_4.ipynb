{
 "cells": [
  {
   "cell_type": "code",
   "execution_count": 1,
   "metadata": {},
   "outputs": [
    {
     "name": "stderr",
     "output_type": "stream",
     "text": [
      "/root/miniconda3/envs/carnd-term1/lib/python3.5/site-packages/sklearn/cross_validation.py:41: DeprecationWarning: This module was deprecated in version 0.18 in favor of the model_selection module into which all the refactored classes and functions are moved. Also note that the interface of the new CV iterators are different from that of this module. This module will be removed in 0.20.\n",
      "  \"This module will be removed in 0.20.\", DeprecationWarning)\n"
     ]
    }
   ],
   "source": [
    "%run 'vehicle_detection.py'\n",
    "\n",
    "svc_file = \"./classifier.p\"\n",
    "svc = pickle.load(open(svc_file, \"rb\" ))\n",
    "\n",
    "scaler_file = \"./scaler.p\"\n",
    "X_scaler = pickle.load(open(scaler_file, \"rb\" ))\n",
    "\n",
    "windows = slide_window((720, 1280), x_start_stop=Settings.x_start_stop, y_start_stop=Settings.y_start_stop,\n",
    "                    xy_window=Settings.xy_window, xy_overlap=Settings.xy_overlap)\n",
    "\n",
    "def process_image(image, debug=False):\n",
    "    image = image.astype(np.float32)\n",
    "    hot_windows, heatmap = search_windows(image, windows, svc, scaler=X_scaler, transformer=None, color_space=Settings.color_space, \n",
    "                            spatial_size=Settings.spatial_size, hist_bins=Settings.hist_bin, \n",
    "                            orient=Settings.orient, pix_per_cell=Settings.pix_per_cell, \n",
    "                            cell_per_block=Settings.cell_per_block, \n",
    "                            hog_channel=Settings.hog_channel, hog_resize=Settings.hog_resize, hog_resize=Settings.hog_resize)\n",
    "    \n",
    "    heatmap = apply_threshold(heatmap, 1)\n",
    "    heatmap = np.clip(heatmap, 0, 255)\n",
    "    labels = label(heatmap)\n",
    "    \n",
    "    if debug:\n",
    "        window_img = draw_boxes(image.copy(), hot_windows, color=(0, 0, 255), thick=6)\n",
    "        draw_img = draw_labeled_bboxes(image.copy(), labels)\n",
    "        window_img = window_img.astype(np.uint8)\n",
    "        draw_img = draw_img.astype(np.uint8)\n",
    "        return draw_img, window_img, heatmap\n",
    "    else:\n",
    "        draw_img = draw_labeled_bboxes(image, labels)\n",
    "        draw_img = draw_img.astype(np.uint8)\n",
    "        return draw_img\n"
   ]
  },
  {
   "cell_type": "code",
   "execution_count": 2,
   "metadata": {},
   "outputs": [
    {
     "name": "stdout",
     "output_type": "stream",
     "text": [
      "[MoviePy] >>>> Building video ./test_video_output.mp4\n",
      "[MoviePy] Writing video ./test_video_output.mp4\n"
     ]
    },
    {
     "name": "stderr",
     "output_type": "stream",
     "text": [
      " 97%|█████████▋| 38/39 [00:56<00:01,  1.48s/it]\n"
     ]
    },
    {
     "name": "stdout",
     "output_type": "stream",
     "text": [
      "[MoviePy] Done.\n",
      "[MoviePy] >>>> Video ready: ./test_video_output.mp4 \n",
      "\n",
      "CPU times: user 55.6 s, sys: 160 ms, total: 55.8 s\n",
      "Wall time: 1min\n"
     ]
    }
   ],
   "source": [
    "from moviepy.editor import VideoFileClip\n",
    "from IPython.display import HTML\n",
    "\n",
    "video_output = './test_video_output.mp4'\n",
    "clip1 = VideoFileClip('../test_video.mp4')\n",
    "video_clip = clip1.fl_image(process_image)\n",
    "%time video_clip.write_videofile(video_output, audio=False)"
   ]
  },
  {
   "cell_type": "code",
   "execution_count": 3,
   "metadata": {},
   "outputs": [
    {
     "name": "stdout",
     "output_type": "stream",
     "text": [
      "[MoviePy] >>>> Building video ./project_video_output.mp4\n",
      "[MoviePy] Writing video ./project_video_output.mp4\n"
     ]
    },
    {
     "name": "stderr",
     "output_type": "stream",
     "text": [
      "100%|█████████▉| 1260/1261 [34:12<00:01,  1.82s/it]\n"
     ]
    },
    {
     "name": "stdout",
     "output_type": "stream",
     "text": [
      "[MoviePy] Done.\n",
      "[MoviePy] >>>> Video ready: ./project_video_output.mp4 \n",
      "\n",
      "CPU times: user 31min 37s, sys: 1.87 s, total: 31min 39s\n",
      "Wall time: 34min 15s\n"
     ]
    }
   ],
   "source": [
    "from moviepy.editor import VideoFileClip\n",
    "from IPython.display import HTML\n",
    "\n",
    "video_output = './project_video_output.mp4'\n",
    "clip1 = VideoFileClip('../project_video.mp4')\n",
    "video_clip = clip1.fl_image(process_image)\n",
    "%time video_clip.write_videofile(video_output, audio=False)"
   ]
  },
  {
   "cell_type": "code",
   "execution_count": null,
   "metadata": {
    "collapsed": true
   },
   "outputs": [],
   "source": []
  }
 ],
 "metadata": {
  "kernelspec": {
   "display_name": "Python 3",
   "language": "python",
   "name": "python3"
  },
  "language_info": {
   "codemirror_mode": {
    "name": "ipython",
    "version": 3
   },
   "file_extension": ".py",
   "mimetype": "text/x-python",
   "name": "python",
   "nbconvert_exporter": "python",
   "pygments_lexer": "ipython3",
   "version": "3.5.2"
  },
  "widgets": {
   "state": {},
   "version": "1.1.2"
  }
 },
 "nbformat": 4,
 "nbformat_minor": 2
}
