{
 "cells": [
  {
   "cell_type": "code",
   "execution_count": 1,
   "metadata": {},
   "outputs": [
    {
     "name": "stderr",
     "output_type": "stream",
     "text": [
      "/root/miniconda3/envs/carnd-term1/lib/python3.5/site-packages/sklearn/cross_validation.py:41: DeprecationWarning: This module was deprecated in version 0.18 in favor of the model_selection module into which all the refactored classes and functions are moved. Also note that the interface of the new CV iterators are different from that of this module. This module will be removed in 0.20.\n",
      "  \"This module will be removed in 0.20.\", DeprecationWarning)\n"
     ]
    }
   ],
   "source": [
    "%run 'vehicle_detection.py'\n",
    "\n",
    "svc_file = \"./classifier.p_YUV_zero_mean\"\n",
    "svc = pickle.load(open(svc_file, \"rb\" ))\n",
    "\n",
    "scaler_file = \"./scaler.p\"\n",
    "X_scaler = pickle.load(open(scaler_file, \"rb\" ))\n",
    "\n",
    "global_heat = FrameHeatMap((720, 1280))\n",
    "\n",
    "start_scale = 1.3\n",
    "end_scale = 2.4\n",
    "step_scale = 0.25\n",
    "def process_image(image, debug=False):\n",
    "    bboxes = []\n",
    "    curr_scale = start_scale\n",
    "    rand_offset = random.randint(0, 10)\n",
    "    while curr_scale < end_scale:\n",
    "        out_img = image.copy().astype(np.float32)\n",
    "        out_img, heatmap, hot_windows = find_cars(out_img, ystart=Settings.y_start_stop[0]+rand_offset, \\\n",
    "                            ystop=Settings.y_start_stop[1], scale=curr_scale, svc=svc, \\\n",
    "                            X_scaler=X_scaler, orient=Settings.orient, pix_per_cell=Settings.pix_per_cell, \\\n",
    "                            cell_per_block=Settings.cell_per_block, spatial_size=Settings.spatial_size, \\\n",
    "                            hist_bins=Settings.hist_bin, \\\n",
    "                            color_space=Settings.color_space, hog_resize=Settings.hog_resize, \\\n",
    "                            cells_per_step=Settings.cells_per_step)\n",
    "        bboxes.extend(hot_windows)\n",
    "        curr_scale += step_scale\n",
    "    \n",
    "    heatmap_final = np.zeros_like(image[:,:,0]).astype(np.float32)\n",
    "    heatmap_final = add_heat(heatmap_final, bboxes)\n",
    "    heatmap_final = apply_threshold(heatmap_final, 1)\n",
    "    heatmap_final = np.clip(heatmap_final, 0, 255)\n",
    "    labels = label(heatmap_final)\n",
    "    \n",
    "    global global_heat\n",
    "    heatmap_final[:] = 0\n",
    "    draw_img, car_bboxes = draw_labeled_bboxes(image.copy(), labels)\n",
    "    heatmap_final = add_heat(heatmap_final, car_bboxes)\n",
    "    draw_img = global_heat.update(image, heatmap_final, labels, threshold=3)\n",
    "    \n",
    "    if debug:\n",
    "        draw_img = draw_img.astype(np.uint8)\n",
    "        out_img = out_img.astype(np.uint8)\n",
    "        return draw_img, out_img, global_heat.heatmap, heatmap_final\n",
    "    else:\n",
    "        draw_img = draw_img.astype(np.uint8)\n",
    "        return draw_img"
   ]
  },
  {
   "cell_type": "code",
   "execution_count": 2,
   "metadata": {},
   "outputs": [
    {
     "name": "stdout",
     "output_type": "stream",
     "text": [
      "[MoviePy] >>>> Building video ./test_video_output.mp4\n",
      "[MoviePy] Writing video ./test_video_output.mp4\n"
     ]
    },
    {
     "name": "stderr",
     "output_type": "stream",
     "text": [
      " 97%|█████████▋| 38/39 [01:07<00:01,  1.92s/it]\n"
     ]
    },
    {
     "name": "stdout",
     "output_type": "stream",
     "text": [
      "[MoviePy] Done.\n",
      "[MoviePy] >>>> Video ready: ./test_video_output.mp4 \n",
      "\n",
      "CPU times: user 1min 5s, sys: 870 ms, total: 1min 6s\n",
      "Wall time: 1min 12s\n"
     ]
    }
   ],
   "source": [
    "from moviepy.editor import VideoFileClip\n",
    "from IPython.display import HTML\n",
    "\n",
    "#global_heat = FrameHeatMap((720, 1280))\n",
    "\n",
    "video_output = './test_video_output.mp4'\n",
    "clip1 = VideoFileClip('../test_video.mp4')\n",
    "video_clip = clip1.fl_image(process_image)\n",
    "%time video_clip.write_videofile(video_output, audio=False)"
   ]
  },
  {
   "cell_type": "code",
   "execution_count": null,
   "metadata": {
    "collapsed": true
   },
   "outputs": [],
   "source": []
  }
 ],
 "metadata": {
  "kernelspec": {
   "display_name": "Python 3",
   "language": "python",
   "name": "python3"
  },
  "language_info": {
   "codemirror_mode": {
    "name": "ipython",
    "version": 3
   },
   "file_extension": ".py",
   "mimetype": "text/x-python",
   "name": "python",
   "nbconvert_exporter": "python",
   "pygments_lexer": "ipython3",
   "version": "3.5.2"
  },
  "widgets": {
   "state": {},
   "version": "1.1.2"
  }
 },
 "nbformat": 4,
 "nbformat_minor": 2
}
